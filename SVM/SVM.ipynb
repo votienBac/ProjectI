{
  "nbformat": 4,
  "nbformat_minor": 0,
  "metadata": {
    "colab": {
      "name": "SVM.ipynb",
      "provenance": [],
      "authorship_tag": "ABX9TyNzZQkl7pBVEMZ749wAdHkj",
      "include_colab_link": true
    },
    "kernelspec": {
      "name": "python3",
      "display_name": "Python 3"
    },
    "language_info": {
      "name": "python"
    }
  },
  "cells": [
    {
      "cell_type": "markdown",
      "metadata": {
        "id": "view-in-github",
        "colab_type": "text"
      },
      "source": [
        "<a href=\"https://colab.research.google.com/github/votienBac/ProjectI/blob/main/SVM/SVM.ipynb\" target=\"_parent\"><img src=\"https://colab.research.google.com/assets/colab-badge.svg\" alt=\"Open In Colab\"/></a>"
      ]
    },
    {
      "cell_type": "code",
      "execution_count": null,
      "metadata": {
        "id": "Glw__KyyU3yC"
      },
      "outputs": [],
      "source": [
        "import numpy as np\n",
        "from skimage.feature import hog\n",
        "import joblib\n",
        "import pandas as pd\n",
        "from sklearn.datasets import fetch_openml\n",
        "from sklearn import model_selection, svm, preprocessing\n"
      ]
    },
    {
      "cell_type": "code",
      "source": [
        "#loading the mnist original dataset\n",
        "dataset = fetch_openml('mnist_784')"
      ],
      "metadata": {
        "id": "yQZRsUTRU7ko"
      },
      "execution_count": null,
      "outputs": []
    },
    {
      "cell_type": "code",
      "source": [
        "#storing the features of the image\n",
        "features = np.array(dataset.data, 'int16')\n",
        "\n",
        "#storing the labels of corresponding digits\n",
        "labels = np.array(dataset.target, 'int')"
      ],
      "metadata": {
        "id": "kVmPFm0yU_7R"
      },
      "execution_count": null,
      "outputs": []
    },
    {
      "cell_type": "code",
      "source": [
        "#creation of list for storing histogram of gradient features of the image\n",
        "list_hog_fd = []\n",
        "\n",
        "\n",
        "for feature in features:\n",
        "    fd = hog(feature.reshape((28, 28)), orientations=9, pixels_per_cell=(14, 14),\n",
        "             cells_per_block=(1, 1), visualize= False)\n",
        "\n",
        "    list_hog_fd.append(fd)\n",
        "hog_features = np.array(list_hog_fd, 'float64')"
      ],
      "metadata": {
        "id": "dM5hsbupVFvb"
      },
      "execution_count": null,
      "outputs": []
    },
    {
      "cell_type": "code",
      "source": [
        "clf = svm.SVC( C= 50)\n",
        "clf.fit(hog_features ,labels)"
      ],
      "metadata": {
        "colab": {
          "base_uri": "https://localhost:8080/"
        },
        "id": "_yeBLwDRVssd",
        "outputId": "da85c853-19d5-4978-e91a-ce970324b32f"
      },
      "execution_count": null,
      "outputs": [
        {
          "output_type": "execute_result",
          "data": {
            "text/plain": [
              "SVC(C=50)"
            ]
          },
          "metadata": {},
          "execution_count": 7
        }
      ]
    },
    {
      "cell_type": "code",
      "source": [
        "print('\\nMaking Predictions on Validation Data...')\n",
        "y_pred = clf.predict(X_test)\n",
        "\n",
        "print('\\nCalculating Accuracy of Predictions...')\n",
        "print(accuracy_score(y_test, y_pred))"
      ],
      "metadata": {
        "id": "aBChRHnYWtMI"
      },
      "execution_count": null,
      "outputs": []
    },
    {
      "cell_type": "code",
      "source": [
        "#saving the trained classifier in digits_cls.pkl file with compression parameter\n",
        "joblib.dump(clf, \"digits_cls.pkl\", compress=3)"
      ],
      "metadata": {
        "colab": {
          "base_uri": "https://localhost:8080/"
        },
        "id": "VCRmQFvqXQSD",
        "outputId": "b9450d03-8bb4-4b07-e4bc-94110c5743be"
      },
      "execution_count": null,
      "outputs": [
        {
          "output_type": "execute_result",
          "data": {
            "text/plain": [
              "['digits_cls.pkl']"
            ]
          },
          "metadata": {},
          "execution_count": 9
        }
      ]
    }
  ]
}