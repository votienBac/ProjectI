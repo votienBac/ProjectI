{
  "nbformat": 4,
  "nbformat_minor": 0,
  "metadata": {
    "colab": {
      "name": "MLP.ipynb",
      "provenance": [],
      "authorship_tag": "ABX9TyO6hNg8exZXK5g3XoefsV4w",
      "include_colab_link": true
    },
    "kernelspec": {
      "name": "python3",
      "display_name": "Python 3"
    },
    "language_info": {
      "name": "python"
    }
  },
  "cells": [
    {
      "cell_type": "markdown",
      "metadata": {
        "id": "view-in-github",
        "colab_type": "text"
      },
      "source": [
        "<a href=\"https://colab.research.google.com/github/votienBac/ProjectI/blob/main/MLP/MLP.ipynb\" target=\"_parent\"><img src=\"https://colab.research.google.com/assets/colab-badge.svg\" alt=\"Open In Colab\"/></a>"
      ]
    },
    {
      "cell_type": "code",
      "execution_count": null,
      "metadata": {
        "id": "BVhN4aaFWUdY"
      },
      "outputs": [],
      "source": [
        "import matplotlib.pyplot as plt\n",
        "\n",
        "from sklearn.datasets import fetch_openml\n",
        "from sklearn.neural_network import MLPClassifier\n",
        "\n",
        "# Load data\n",
        "X, y = fetch_openml(\"mnist_784\", version=1, return_X_y=True)\n",
        "# Normalize intensity of images to make it in the range [0,1] since 255 is the max (white).\n",
        "X = X / 255.0"
      ]
    },
    {
      "cell_type": "code",
      "source": [
        "# Split the data into train/test sets\n",
        "X_train, X_test = X[:60000], X[60000:]\n",
        "y_train, y_test = y[:60000], y[60000:]\n",
        "\n",
        "classifier = MLPClassifier(\n",
        "    hidden_layer_sizes=(800,800,800,800,800,800,800,800),\n",
        "    max_iter=20,\n",
        "    alpha=1e-4,\n",
        "    solver=\"sgd\",\n",
        "    verbose=10,\n",
        "    random_state=1,\n",
        "    learning_rate_init=0.1,\n",
        ")\n",
        "# fit the model on the training data\n",
        "classifier.fit(X_train, y_train)"
      ],
      "metadata": {
        "colab": {
          "base_uri": "https://localhost:8080/"
        },
        "id": "0oJpCSrEWfTG",
        "outputId": "45f01468-25a4-41d5-c647-c309d5120280"
      },
      "execution_count": null,
      "outputs": [
        {
          "output_type": "stream",
          "name": "stdout",
          "text": [
            "Iteration 1, loss = 0.66936343\n",
            "Iteration 2, loss = 0.12411457\n",
            "Iteration 3, loss = 0.08557310\n",
            "Iteration 4, loss = 0.06183631\n",
            "Iteration 5, loss = 0.04941755\n",
            "Iteration 6, loss = 0.04036692\n",
            "Iteration 7, loss = 0.03596359\n",
            "Iteration 8, loss = 0.03010852\n",
            "Iteration 9, loss = 0.02428595\n",
            "Iteration 10, loss = 0.02295948\n",
            "Iteration 11, loss = 0.02160244\n",
            "Iteration 12, loss = 0.01792199\n",
            "Iteration 13, loss = 0.01214923\n",
            "Iteration 14, loss = 0.01447840\n",
            "Iteration 15, loss = 0.01454711\n",
            "Iteration 16, loss = 0.00802829\n",
            "Iteration 17, loss = 0.00881922\n",
            "Iteration 18, loss = 0.01174251\n",
            "Iteration 19, loss = 0.01099347\n",
            "Iteration 20, loss = 0.01135648\n",
            "Iteration 21, loss = 0.00793818\n",
            "Iteration 22, loss = 0.00992401\n",
            "Iteration 23, loss = 0.00710935\n",
            "Iteration 24, loss = 0.00568691\n"
          ]
        },
        {
          "output_type": "stream",
          "name": "stderr",
          "text": [
            "/usr/local/lib/python3.7/dist-packages/sklearn/neural_network/_multilayer_perceptron.py:699: UserWarning: Training interrupted by user.\n",
            "  warnings.warn(\"Training interrupted by user.\")\n"
          ]
        },
        {
          "output_type": "execute_result",
          "data": {
            "text/plain": [
              "MLPClassifier(hidden_layer_sizes=(800, 800, 800, 800, 800, 800, 800, 800),\n",
              "              learning_rate_init=0.1, max_iter=100, random_state=1,\n",
              "              solver='sgd', verbose=10)"
            ]
          },
          "metadata": {},
          "execution_count": 5
        }
      ]
    },
    {
      "cell_type": "code",
      "source": [
        "print(\"Training set score: %f\" % classifier.score(X_train, y_train))\n",
        "print(\"Test set score: %f\" % classifier.score(X_test, y_test))"
      ],
      "metadata": {
        "colab": {
          "base_uri": "https://localhost:8080/"
        },
        "id": "rKCBs2v6WkbK",
        "outputId": "51238a2f-50e4-49d9-b273-be7b41300bd7"
      },
      "execution_count": null,
      "outputs": [
        {
          "output_type": "stream",
          "name": "stdout",
          "text": [
            "Training set score: 0.997433\n",
            "Test set score: 0.980800\n"
          ]
        }
      ]
    }
  ]
}