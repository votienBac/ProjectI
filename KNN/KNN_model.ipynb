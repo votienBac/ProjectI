{
  "nbformat": 4,
  "nbformat_minor": 0,
  "metadata": {
    "colab": {
      "name": "KNN_model.ipynb",
      "provenance": [],
      "authorship_tag": "ABX9TyPfrGZU/dXJfcCJWdMaxLhc",
      "include_colab_link": true
    },
    "kernelspec": {
      "name": "python3",
      "display_name": "Python 3"
    },
    "language_info": {
      "name": "python"
    }
  },
  "cells": [
    {
      "cell_type": "markdown",
      "metadata": {
        "id": "view-in-github",
        "colab_type": "text"
      },
      "source": [
        "<a href=\"https://colab.research.google.com/github/votienBac/ProjectI/blob/main/KNN/KNN_model.ipynb\" target=\"_parent\"><img src=\"https://colab.research.google.com/assets/colab-badge.svg\" alt=\"Open In Colab\"/></a>"
      ]
    },
    {
      "cell_type": "code",
      "execution_count": 9,
      "metadata": {
        "id": "ZC77j8CGLVCW"
      },
      "outputs": [],
      "source": [
        "import numpy as np\n",
        "from skimage.feature import hog\n",
        "import joblib\n",
        "import pandas as pd\n",
        "from sklearn.datasets import fetch_openml\n",
        "from sklearn.neighbors import KNeighborsClassifier\n",
        "from sklearn.metrics import accuracy_score, confusion_matrix"
      ]
    },
    {
      "cell_type": "code",
      "source": [
        "#loading data from mnist\n",
        "data = fetch_openml('mnist_784')"
      ],
      "metadata": {
        "id": "J_YNtjqDLZ9M"
      },
      "execution_count": 2,
      "outputs": []
    },
    {
      "cell_type": "code",
      "source": [
        "print('\\nLoading Training Data...')\n",
        "\n",
        "X = np.array(data.data, 'int16')\n",
        "print('\\nLoading Testing Data...')\n",
        "y = np.array(data.target, 'int')\n",
        "\n",
        "# Prepare Classifier Training and Testing Data\n",
        "print('\\nPreparing Classifier Training and Validation Data...')\n",
        "X_train, X_test, y_train, y_test = model_selection.train_test_split(X,y,test_size=0.1)"
      ],
      "metadata": {
        "colab": {
          "base_uri": "https://localhost:8080/"
        },
        "id": "8csMiG57LfQO",
        "outputId": "ccde9293-ae3e-4568-b797-9707c52e44f7"
      },
      "execution_count": 3,
      "outputs": [
        {
          "output_type": "stream",
          "name": "stdout",
          "text": [
            "\n",
            "Loading Training Data...\n",
            "\n",
            "Loading Testing Data...\n",
            "\n",
            "Preparing Classifier Training and Validation Data...\n"
          ]
        }
      ]
    },
    {
      "cell_type": "code",
      "source": [
        "clf = KNeighborsClassifier(n_neighbors=1,algorithm='auto')\n",
        "clf.fit(X_train,y_train)"
      ],
      "metadata": {
        "colab": {
          "base_uri": "https://localhost:8080/"
        },
        "id": "1bULjxOmLilH",
        "outputId": "9a204ea5-1f58-49bd-fc79-3f1a0b3c4d38"
      },
      "execution_count": 7,
      "outputs": [
        {
          "output_type": "execute_result",
          "data": {
            "text/plain": [
              "KNeighborsClassifier(n_neighbors=1)"
            ]
          },
          "metadata": {},
          "execution_count": 7
        }
      ]
    },
    {
      "cell_type": "code",
      "source": [
        "print(\"\\Making Predictions on Validation Data...\")\n",
        "y_pred = clf.predict(X_test)\n",
        "\n",
        "print(\"Accuracy of 1NN for MNIST\")\n",
        "print(accuracy_score(y_test, y_pred))"
      ],
      "metadata": {
        "colab": {
          "base_uri": "https://localhost:8080/"
        },
        "id": "GppOV26nrBSf",
        "outputId": "e433b7f3-8d7e-4b5e-d17a-cbeabc27f0f3"
      },
      "execution_count": 10,
      "outputs": [
        {
          "output_type": "stream",
          "name": "stdout",
          "text": [
            "\\Making Predictions on Validation Data...\n",
            "Accuracy of 1NN for MNIST\n",
            "0.9712857142857143\n"
          ]
        }
      ]
    }
  ]
}